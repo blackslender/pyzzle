{
 "metadata": {
  "language_info": {
   "codemirror_mode": {
    "name": "ipython",
    "version": 3
   },
   "file_extension": ".py",
   "mimetype": "text/x-python",
   "name": "python",
   "nbconvert_exporter": "python",
   "pygments_lexer": "ipython3",
   "version": "3.9.2"
  },
  "orig_nbformat": 2,
  "kernelspec": {
   "name": "python392jvsc74a57bd0ba52975ac9385b19daa147bf3880424a323ca716c80bfd8187edaef83412e235",
   "display_name": "Python 3.9.2 64-bit ('pyzzle': conda)"
  },
  "metadata": {
   "interpreter": {
    "hash": "ba52975ac9385b19daa147bf3880424a323ca716c80bfd8187edaef83412e235"
   }
  }
 },
 "nbformat": 4,
 "nbformat_minor": 2,
 "cells": [
  {
   "cell_type": "code",
   "execution_count": 9,
   "metadata": {},
   "outputs": [],
   "source": [
    "# Initialize local environment\n",
    "import pyspark\n",
    "from pyspark.dbutils import DBUtils\n",
    "\n",
    "spark = pyspark.sql.SparkSession.builder.getOrCreate()\n",
    "dbutils = DBUtils(spark)\n",
    "\n",
    "# Add source module to os path\n",
    "import sys, os\n",
    "cwd = os.getcwd()\n",
    "if cwd.endswith(\"notebooks\"):\n",
    "    cwd = cwd.replace(\"notebooks\", \"\")\n",
    "    while cwd[-1] in (\"/\", \"\\\\\"):\n",
    "        cwd = cwd[:-1]\n",
    "cwd = cwd + os.path.sep + \"source\"\n",
    "sys.path.append(cwd)"
   ]
  },
  {
   "cell_type": "code",
   "execution_count": 10,
   "metadata": {},
   "outputs": [
    {
     "output_type": "execute_result",
     "data": {
      "text/plain": [
       "['c:\\\\Users\\\\hoang\\\\source\\\\pyzzle\\\\notebooks',\n",
       " 'C:\\\\Users\\\\hoang\\\\AppData\\\\Local\\\\Temp\\\\spark-7a6ddfda-f438-409a-93b5-a8aa1ff86aa3\\\\userFiles-bbffea77-1a65-4d29-b529-022bfdd8e1c1',\n",
       " 'c:\\\\Users\\\\hoang\\\\.vscode\\\\extensions\\\\ms-toolsai.jupyter-2021.5.702919634\\\\pythonFiles',\n",
       " 'c:\\\\Users\\\\hoang\\\\.vscode\\\\extensions\\\\ms-toolsai.jupyter-2021.5.702919634\\\\pythonFiles\\\\lib\\\\python',\n",
       " 'C:\\\\Users\\\\hoang\\\\anaconda3\\\\envs\\\\pyzzle\\\\python39.zip',\n",
       " 'C:\\\\Users\\\\hoang\\\\anaconda3\\\\envs\\\\pyzzle\\\\DLLs',\n",
       " 'C:\\\\Users\\\\hoang\\\\anaconda3\\\\envs\\\\pyzzle\\\\lib',\n",
       " 'C:\\\\Users\\\\hoang\\\\anaconda3\\\\envs\\\\pyzzle',\n",
       " '',\n",
       " 'C:\\\\Users\\\\hoang\\\\anaconda3\\\\envs\\\\pyzzle\\\\lib\\\\site-packages',\n",
       " 'C:\\\\Users\\\\hoang\\\\anaconda3\\\\envs\\\\pyzzle\\\\lib\\\\site-packages\\\\win32',\n",
       " 'C:\\\\Users\\\\hoang\\\\anaconda3\\\\envs\\\\pyzzle\\\\lib\\\\site-packages\\\\win32\\\\lib',\n",
       " 'C:\\\\Users\\\\hoang\\\\anaconda3\\\\envs\\\\pyzzle\\\\lib\\\\site-packages\\\\Pythonwin',\n",
       " 'C:\\\\Users\\\\hoang\\\\anaconda3\\\\envs\\\\pyzzle\\\\lib\\\\site-packages\\\\IPython\\\\extensions',\n",
       " 'C:\\\\Users\\\\hoang\\\\.ipython',\n",
       " 'c:\\\\Users\\\\hoang\\\\source\\\\pyzzle',\n",
       " 'c:\\\\Users\\\\hoang\\\\source\\\\pyzzle\\\\source']"
      ]
     },
     "metadata": {},
     "execution_count": 10
    }
   ],
   "source": [
    "sys.path"
   ]
  }
 ]
}