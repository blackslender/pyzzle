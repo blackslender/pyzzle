{
 "metadata": {
  "language_info": {
   "codemirror_mode": {
    "name": "ipython",
    "version": 3
   },
   "file_extension": ".py",
   "mimetype": "text/x-python",
   "name": "python",
   "nbconvert_exporter": "python",
   "pygments_lexer": "ipython3",
   "version": "3.7.9-final"
  },
  "orig_nbformat": 2,
  "kernelspec": {
   "name": "python3",
   "display_name": "Python 3.7.9 64-bit ('azure': conda)",
   "metadata": {
    "interpreter": {
     "hash": "74774c151c7c092a7a9b46a4c59bdb580a3dfb6218425495a9ba5bd61f7a6c70"
    }
   }
  }
 },
 "nbformat": 4,
 "nbformat_minor": 2,
 "cells": [
  {
   "cell_type": "code",
   "execution_count": 1,
   "metadata": {},
   "outputs": [],
   "source": [
    "import module"
   ]
  },
  {
   "cell_type": "code",
   "execution_count": 2,
   "metadata": {},
   "outputs": [
    {
     "output_type": "stream",
     "name": "stdout",
     "text": [
      "\n",
      "INSERT OVERWRITE adw.f_booking\n",
      "SELECT * FROM (select * from slide.f_booking_stg where ctry = 'Vietnam' and city = 'Hanoi')\n",
      "REPLACE WHERE (1=1)\n",
      "\n",
      "c:\\Users\\hoang\\source\\x\\module\\overwrite.py:13: UserWarning: OVERWRITE operation has not been supported yet. This query is for reference purpose only\n",
      "  \"OVERWRITE operation has not been supported yet. This query is for reference purpose only\")\n"
     ]
    }
   ],
   "source": [
    "dataloader = module.DataLoader.init_dataloader(\"testcases/test_overwrite_00.yaml\", {\"ctry_name\": \"Vietnam\", \"city_name\": \"Hanoi\"})\n",
    "\n",
    "print(dataloader.generate_main_script())"
   ]
  }
 ]
}