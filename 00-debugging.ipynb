{
 "metadata": {
  "language_info": {
   "codemirror_mode": {
    "name": "ipython",
    "version": 3
   },
   "file_extension": ".py",
   "mimetype": "text/x-python",
   "name": "python",
   "nbconvert_exporter": "python",
   "pygments_lexer": "ipython3",
   "version": "3.7.9-final"
  },
  "orig_nbformat": 2,
  "kernelspec": {
   "name": "python3",
   "display_name": "Python 3.7.9 64-bit ('azure': conda)",
   "metadata": {
    "interpreter": {
     "hash": "74774c151c7c092a7a9b46a4c59bdb580a3dfb6218425495a9ba5bd61f7a6c70"
    }
   }
  }
 },
 "nbformat": 4,
 "nbformat_minor": 2,
 "cells": [
  {
   "cell_type": "code",
   "execution_count": 1,
   "metadata": {},
   "outputs": [],
   "source": [
    "import yaml"
   ]
  },
  {
   "cell_type": "code",
   "execution_count": 8,
   "metadata": {},
   "outputs": [
    {
     "output_type": "stream",
     "name": "stdout",
     "text": [
      "{'source_table1': '/mnt/adls2/default/source_table1', 'source_table2': '/mnt/adls2/default/source_table2', 'source_table3': '/mnt/adls2/default/source_table3', '${source_table_name}': '${path_name}'}\n"
     ]
    }
   ],
   "source": [
    "with open(\"dummy.yaml\", \"r\") as f:\n",
    "    cfg = yaml.safe_load(f)\n",
    "\n",
    "print(cfg[\"source\"][\"reference_table_path\"])"
   ]
  }
 ]
}